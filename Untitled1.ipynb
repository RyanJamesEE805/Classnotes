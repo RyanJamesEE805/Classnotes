{
 "cells": [
  {
   "cell_type": "code",
   "execution_count": 1,
   "metadata": {},
   "outputs": [],
   "source": [
    "r =2"
   ]
  },
  {
   "cell_type": "code",
   "execution_count": 2,
   "metadata": {},
   "outputs": [
    {
     "name": "stdout",
     "output_type": "stream",
     "text": [
      "Ohms Law\n",
      "Voltage =  2 Current =  2 Resistence =  1.0\n",
      "Ohms Law\n",
      "Voltage =  2 Current =  1.0 Resistence =  1.0\n",
      "Ohms Law\n",
      "Voltage =  4 Current =  2 Resistence =  2\n"
     ]
    }
   ],
   "source": [
    "from dccktlib import *\n",
    "\n",
    "x = 2\n",
    "y = 2\n",
    "r = Finr_vi(x, y)\n",
    "print('Ohms Law\\nVoltage = ',x,'Current = ',y,'Resistence = ',r)\n",
    "r = Finc_vr(x, y)\n",
    "print('Ohms Law\\nVoltage = ',x,'Current = ',r,'Resistence = ',r)\n",
    "r = Finv_ir(x, y)\n",
    "print('Ohms Law\\nVoltage = ',r,'Current = ',x,'Resistence = ',y)"
   ]
  },
  {
   "cell_type": "code",
   "execution_count": null,
   "metadata": {},
   "outputs": [],
   "source": []
  }
 ],
 "metadata": {
  "kernelspec": {
   "display_name": "Python 3",
   "language": "python",
   "name": "python3"
  },
  "language_info": {
   "codemirror_mode": {
    "name": "ipython",
    "version": 3
   },
   "file_extension": ".py",
   "mimetype": "text/x-python",
   "name": "python",
   "nbconvert_exporter": "python",
   "pygments_lexer": "ipython3",
   "version": "3.7.6"
  }
 },
 "nbformat": 4,
 "nbformat_minor": 4
}
